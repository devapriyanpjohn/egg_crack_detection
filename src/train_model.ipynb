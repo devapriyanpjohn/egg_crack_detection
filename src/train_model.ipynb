{
 "cells": [
  {
   "cell_type": "code",
   "execution_count": 1,
   "id": "72094b7f",
   "metadata": {},
   "outputs": [],
   "source": [
    "import pandas as pd\n",
    "import numpy as np\n",
    "from sklearn.model_selection import train_test_split,StratifiedKFold,cross_val_score\n",
    "from sklearn.preprocessing import StandardScaler\n",
    "from sklearn.decomposition import PCA\n",
    "from imblearn.over_sampling import SMOTE\n",
    "from xgboost import XGBClassifier\n",
    "from sklearn.metrics import classification_report, accuracy_score, confusion_matrix\n",
    "import matplotlib.pyplot as plt\n",
    "import seaborn as sns\n",
    "import optuna\n",
    "import joblib"
   ]
  },
  {
   "cell_type": "code",
   "execution_count": 2,
   "id": "e357ac30",
   "metadata": {},
   "outputs": [],
   "source": [
    "df_feats = pd.read_csv(\"features.csv\")     # handcrafted + relative paths\n",
    "df_embeds = pd.read_csv(\"cnn_embeddings.csv\")  # CNN embeddings\n",
    "\n",
    "\n",
    "X_hand = df_feats.drop(columns=[\"relpath\", \"label\"]).values\n",
    "X_cnn = df_embeds.values\n",
    "y = df_feats[\"label\"].values\n",
    "\n",
    "# 2️⃣ Reduce CNN embedding size with PCA\n",
    "pca = PCA(n_components=50, random_state=42)\n",
    "X_cnn_reduced = pca.fit_transform(X_cnn)\n",
    "\n",
    "# 3️⃣ Merge features\n",
    "X = np.hstack([X_hand, X_cnn_reduced]).astype(np.float32)"
   ]
  },
  {
   "cell_type": "code",
   "execution_count": 3,
   "id": "727e4ed7",
   "metadata": {},
   "outputs": [],
   "source": [
    "X_train, X_test, y_train, y_test = train_test_split(X, y, test_size=0.2, stratify=y, random_state=42)\n",
    "\n",
    "# Step 4: Feature scaling (optional but recommended for some models)\n",
    "scaler = StandardScaler().fit(X_train)\n",
    "X_train_scaled = scaler.transform(X_train).astype(np.float32)\n",
    "X_test_scaled = scaler.transform(X_test).astype(np.float32)\n",
    "\n",
    "smote = SMOTE(random_state=42)\n",
    "X_resampled, y_resampled = smote.fit_resample(X_train_scaled, y_train)"
   ]
  },
  {
   "cell_type": "code",
   "execution_count": 4,
   "id": "bbffcf8f",
   "metadata": {},
   "outputs": [
    {
     "name": "stderr",
     "output_type": "stream",
     "text": [
      "[I 2025-07-07 18:04:03,487] A new study created in memory with name: no-name-a4f4addb-c811-4a15-9077-7fca90adf19d\n",
      "[I 2025-07-07 18:04:23,954] Trial 0 finished with value: 0.9258774779203905 and parameters: {'max_depth': 4, 'learning_rate': 0.024036964280347663, 'subsample': 0.5605877071723862, 'colsample_bytree': 0.8470411903045667, 'gamma': 0.17461012492656308, 'reg_alpha': 0.8455483897719381, 'reg_lambda': 1.6606008976571698}. Best is trial 0 with value: 0.9258774779203905.\n",
      "[I 2025-07-07 18:04:27,457] Trial 1 finished with value: 0.9278440117289696 and parameters: {'max_depth': 6, 'learning_rate': 0.021292159844141994, 'subsample': 0.9474741272937769, 'colsample_bytree': 0.8691613874476853, 'gamma': 0.12033788798958445, 'reg_alpha': 0.9638240591884644, 'reg_lambda': 1.5494798688637588}. Best is trial 1 with value: 0.9278440117289696.\n",
      "[I 2025-07-07 18:04:31,220] Trial 2 finished with value: 0.9347678495133414 and parameters: {'max_depth': 8, 'learning_rate': 0.02616852178122111, 'subsample': 0.8073873987105658, 'colsample_bytree': 0.9277968896792883, 'gamma': 0.04926863378799534, 'reg_alpha': 0.7644745147894654, 'reg_lambda': 3.3099576426917725}. Best is trial 2 with value: 0.9347678495133414.\n",
      "[I 2025-07-07 18:04:32,302] Trial 3 finished with value: 0.9456423132524479 and parameters: {'max_depth': 8, 'learning_rate': 0.08499145889614085, 'subsample': 0.7821639015553833, 'colsample_bytree': 0.6389658357266624, 'gamma': 0.3229493598020259, 'reg_alpha': 0.9288803525246967, 'reg_lambda': 2.685462131668712}. Best is trial 3 with value: 0.9456423132524479.\n",
      "[I 2025-07-07 18:04:33,795] Trial 4 finished with value: 0.9298222510959328 and parameters: {'max_depth': 7, 'learning_rate': 0.011332556920265156, 'subsample': 0.9061346498344394, 'colsample_bytree': 0.5716950162811647, 'gamma': 0.0681358921756558, 'reg_alpha': 0.11589032612161942, 'reg_lambda': 7.097435672366604}. Best is trial 3 with value: 0.9456423132524479.\n",
      "[I 2025-07-07 18:04:34,734] Trial 5 finished with value: 0.8981879795620951 and parameters: {'max_depth': 5, 'learning_rate': 0.002527712455426969, 'subsample': 0.8666352059690019, 'colsample_bytree': 0.7147873838408509, 'gamma': 0.47633646689232617, 'reg_alpha': 0.9256054490901435, 'reg_lambda': 7.354007138370415}. Best is trial 3 with value: 0.9456423132524479.\n",
      "[I 2025-07-07 18:04:35,055] Trial 6 finished with value: 0.8586904991835373 and parameters: {'max_depth': 3, 'learning_rate': 0.0035791936791096358, 'subsample': 0.9828285753628534, 'colsample_bytree': 0.7191844969494552, 'gamma': 0.4230023100684955, 'reg_alpha': 0.5836122207722789, 'reg_lambda': 7.755796239458982}. Best is trial 3 with value: 0.9456423132524479.\n",
      "[I 2025-07-07 18:04:35,379] Trial 7 finished with value: 0.9406967148350395 and parameters: {'max_depth': 3, 'learning_rate': 0.11055218615118392, 'subsample': 0.6591651795002447, 'colsample_bytree': 0.8256978019971583, 'gamma': 0.3363745327369074, 'reg_alpha': 0.9847362166293032, 'reg_lambda': 8.655827062328749}. Best is trial 3 with value: 0.9456423132524479.\n",
      "[I 2025-07-07 18:04:36,112] Trial 8 finished with value: 0.9466255801567374 and parameters: {'max_depth': 6, 'learning_rate': 0.1139005922019301, 'subsample': 0.6038812113886334, 'colsample_bytree': 0.9440961042119116, 'gamma': 0.40711978785324193, 'reg_alpha': 0.4888091853369565, 'reg_lambda': 7.073503267505129}. Best is trial 8 with value: 0.9466255801567374.\n",
      "[I 2025-07-07 18:04:36,753] Trial 9 finished with value: 0.8962126665847278 and parameters: {'max_depth': 4, 'learning_rate': 0.008510050639597363, 'subsample': 0.7815992313751302, 'colsample_bytree': 0.662637918532938, 'gamma': 0.21685320412499903, 'reg_alpha': 0.5708414467167162, 'reg_lambda': 8.321247301600872}. Best is trial 8 with value: 0.9466255801567374.\n",
      "[I 2025-07-07 18:04:37,721] Trial 10 finished with value: 0.947611773450623 and parameters: {'max_depth': 9, 'learning_rate': 0.15527925190756817, 'subsample': 0.5131357989011329, 'colsample_bytree': 0.9890248344256665, 'gamma': 0.33401663755585853, 'reg_alpha': 0.24242110575194076, 'reg_lambda': 5.392144162535528}. Best is trial 10 with value: 0.947611773450623.\n",
      "[I 2025-07-07 18:04:38,333] Trial 11 finished with value: 0.9495870864279903 and parameters: {'max_depth': 9, 'learning_rate': 0.196405939421913, 'subsample': 0.5082072026954614, 'colsample_bytree': 0.9961604157860343, 'gamma': 0.3294547610159547, 'reg_alpha': 0.22878579801542498, 'reg_lambda': 5.203212174854095}. Best is trial 11 with value: 0.9495870864279903.\n",
      "[I 2025-07-07 18:04:38,911] Trial 12 finished with value: 0.949601718375971 and parameters: {'max_depth': 9, 'learning_rate': 0.1876718691536651, 'subsample': 0.5223721957953666, 'colsample_bytree': 0.9988588983811322, 'gamma': 0.292261429118873, 'reg_alpha': 0.17958174654765816, 'reg_lambda': 4.967538508684907}. Best is trial 12 with value: 0.949601718375971.\n",
      "[I 2025-07-07 18:04:40,144] Trial 13 finished with value: 0.9456481660316401 and parameters: {'max_depth': 9, 'learning_rate': 0.054275465334538586, 'subsample': 0.6750007030589344, 'colsample_bytree': 0.9786796241743475, 'gamma': 0.26361371337802986, 'reg_alpha': 0.009270507769764458, 'reg_lambda': 4.790807767098271}. Best is trial 12 with value: 0.949601718375971.\n",
      "[I 2025-07-07 18:04:41,378] Trial 14 finished with value: 0.8813992824492711 and parameters: {'max_depth': 8, 'learning_rate': 0.0011506562061922685, 'subsample': 0.5087193310298918, 'colsample_bytree': 0.7963374506556262, 'gamma': 0.26918263429838474, 'reg_alpha': 0.2951861436263867, 'reg_lambda': 4.1496485242494225}. Best is trial 12 with value: 0.949601718375971.\n",
      "[I 2025-07-07 18:04:42,004] Trial 15 finished with value: 0.9466285065463335 and parameters: {'max_depth': 9, 'learning_rate': 0.19947524101444955, 'subsample': 0.6789620805015898, 'colsample_bytree': 0.9050555805280023, 'gamma': 0.38900673027261945, 'reg_alpha': 0.3497877503507808, 'reg_lambda': 6.241884255269684}. Best is trial 12 with value: 0.949601718375971.\n",
      "[I 2025-07-07 18:04:43,027] Trial 16 finished with value: 0.9456423132524479 and parameters: {'max_depth': 7, 'learning_rate': 0.06036506834283471, 'subsample': 0.5915319715627801, 'colsample_bytree': 0.999654085456323, 'gamma': 0.19823949873636815, 'reg_alpha': 0.12698584819675635, 'reg_lambda': 5.874745168810077}. Best is trial 12 with value: 0.949601718375971.\n",
      "[I 2025-07-07 18:04:44,110] Trial 17 finished with value: 0.9397075951515577 and parameters: {'max_depth': 7, 'learning_rate': 0.039435812870355864, 'subsample': 0.6233869451380368, 'colsample_bytree': 0.772312405755314, 'gamma': 0.4973211418494305, 'reg_alpha': 0.46358443658939963, 'reg_lambda': 9.532073999520485}. Best is trial 12 with value: 0.949601718375971.\n",
      "[I 2025-07-07 18:04:45,073] Trial 18 finished with value: 0.9456364604732558 and parameters: {'max_depth': 9, 'learning_rate': 0.0870420475948494, 'subsample': 0.7176731143607418, 'colsample_bytree': 0.5226032552070382, 'gamma': 0.3058874371294605, 'reg_alpha': 0.1852682704201138, 'reg_lambda': 3.949363792332216}. Best is trial 12 with value: 0.949601718375971.\n",
      "[I 2025-07-07 18:04:45,727] Trial 19 finished with value: 0.9495958655967787 and parameters: {'max_depth': 8, 'learning_rate': 0.19281855705354362, 'subsample': 0.5615841017069355, 'colsample_bytree': 0.893234529968139, 'gamma': 0.13955616862418846, 'reg_alpha': 0.006131252633268414, 'reg_lambda': 5.226585293733259}. Best is trial 12 with value: 0.949601718375971.\n",
      "[I 2025-07-07 18:04:46,908] Trial 20 finished with value: 0.9495958655967787 and parameters: {'max_depth': 8, 'learning_rate': 0.04297433551753145, 'subsample': 0.5557090305606383, 'colsample_bytree': 0.8904583506863797, 'gamma': 0.09582339266218332, 'reg_alpha': 0.05262784797611708, 'reg_lambda': 2.5276111007987216}. Best is trial 12 with value: 0.949601718375971.\n",
      "[I 2025-07-07 18:04:48,042] Trial 21 finished with value: 0.9456423132524479 and parameters: {'max_depth': 8, 'learning_rate': 0.045266710801090466, 'subsample': 0.5558420689780683, 'colsample_bytree': 0.8826932953151719, 'gamma': 0.13919382831196722, 'reg_alpha': 0.017815740193084455, 'reg_lambda': 2.304573376021047}. Best is trial 12 with value: 0.949601718375971.\n",
      "[I 2025-07-07 18:04:48,866] Trial 22 finished with value: 0.9574971175062479 and parameters: {'max_depth': 7, 'learning_rate': 0.12431321726210519, 'subsample': 0.5584401559373892, 'colsample_bytree': 0.9324235557445519, 'gamma': 0.09204713730776512, 'reg_alpha': 0.08747601783034795, 'reg_lambda': 3.9319578342596}. Best is trial 22 with value: 0.9574971175062479.\n",
      "[I 2025-07-07 18:04:49,798] Trial 23 finished with value: 0.9486096723028931 and parameters: {'max_depth': 7, 'learning_rate': 0.11274034161463668, 'subsample': 0.6265067813551258, 'colsample_bytree': 0.9412709606543573, 'gamma': 0.0071660821156491195, 'reg_alpha': 0.0912763038860438, 'reg_lambda': 4.491561405504679}. Best is trial 22 with value: 0.9574971175062479.\n",
      "[I 2025-07-07 18:04:50,745] Trial 24 finished with value: 0.951571178574146 and parameters: {'max_depth': 7, 'learning_rate': 0.0761943293920117, 'subsample': 0.5567474462089851, 'colsample_bytree': 0.9490032385623172, 'gamma': 0.1676390510139916, 'reg_alpha': 0.32861163673583565, 'reg_lambda': 6.356841421363686}. Best is trial 22 with value: 0.9574971175062479.\n",
      "[I 2025-07-07 18:04:51,585] Trial 25 finished with value: 0.9406996412246356 and parameters: {'max_depth': 5, 'learning_rate': 0.08111980663361157, 'subsample': 0.7118481614104071, 'colsample_bytree': 0.9425349568199715, 'gamma': 0.22898647237792513, 'reg_alpha': 0.37860209877061624, 'reg_lambda': 6.446980669841801}. Best is trial 22 with value: 0.9574971175062479.\n",
      "[I 2025-07-07 18:04:52,374] Trial 26 finished with value: 0.9495958655967787 and parameters: {'max_depth': 6, 'learning_rate': 0.12741746498438114, 'subsample': 0.5832570634768574, 'colsample_bytree': 0.8172902939047262, 'gamma': 0.006434384147485664, 'reg_alpha': 0.1774595918621001, 'reg_lambda': 3.5480586803807332}. Best is trial 22 with value: 0.9574971175062479.\n",
      "[I 2025-07-07 18:04:53,190] Trial 27 finished with value: 0.9466343593255258 and parameters: {'max_depth': 5, 'learning_rate': 0.06853777708832412, 'subsample': 0.5350290922910916, 'colsample_bytree': 0.9688012596198878, 'gamma': 0.1788777514445314, 'reg_alpha': 0.40865952821926965, 'reg_lambda': 6.414214895864141}. Best is trial 22 with value: 0.9574971175062479.\n",
      "[I 2025-07-07 18:04:54,549] Trial 28 finished with value: 0.8863448808666795 and parameters: {'max_depth': 6, 'learning_rate': 0.005974671861340309, 'subsample': 0.6363309962157322, 'colsample_bytree': 0.9194781405513686, 'gamma': 0.06608998806492461, 'reg_alpha': 0.31311367221959996, 'reg_lambda': 3.2103739596924603}. Best is trial 22 with value: 0.9574971175062479.\n",
      "[I 2025-07-07 18:04:55,815] Trial 29 finished with value: 0.935754042807227 and parameters: {'max_depth': 7, 'learning_rate': 0.02556032697025719, 'subsample': 0.5396217356599033, 'colsample_bytree': 0.865834812087872, 'gamma': 0.18353099177279736, 'reg_alpha': 0.25842688134753494, 'reg_lambda': 4.67322927864856}. Best is trial 22 with value: 0.9574971175062479.\n",
      "[I 2025-07-07 18:04:56,948] Trial 30 finished with value: 0.9456510924212362 and parameters: {'max_depth': 7, 'learning_rate': 0.03364593746139296, 'subsample': 0.5845166134669582, 'colsample_bytree': 0.834457114103981, 'gamma': 0.1499991424343183, 'reg_alpha': 0.6814649271078843, 'reg_lambda': 1.195511006753164}. Best is trial 22 with value: 0.9574971175062479.\n",
      "[I 2025-07-07 18:04:57,762] Trial 31 finished with value: 0.9476059206714309 and parameters: {'max_depth': 8, 'learning_rate': 0.16393978685076016, 'subsample': 0.5689188451766216, 'colsample_bytree': 0.9580423493701017, 'gamma': 0.10249142527460242, 'reg_alpha': 0.1488627687775798, 'reg_lambda': 5.53919997748355}. Best is trial 22 with value: 0.9574971175062479.\n",
      "[I 2025-07-07 18:04:58,504] Trial 32 finished with value: 0.9466285065463335 and parameters: {'max_depth': 8, 'learning_rate': 0.1347727002579929, 'subsample': 0.5345796638890421, 'colsample_bytree': 0.908207848885663, 'gamma': 0.14891740016234964, 'reg_alpha': 0.07508570147811014, 'reg_lambda': 5.071375436121188}. Best is trial 22 with value: 0.9574971175062479.\n",
      "[I 2025-07-07 18:04:59,139] Trial 33 finished with value: 0.9525602982576277 and parameters: {'max_depth': 7, 'learning_rate': 0.19784488260249333, 'subsample': 0.5045058060542572, 'colsample_bytree': 0.8635734428033228, 'gamma': 0.11963940528883622, 'reg_alpha': 0.20508812454393385, 'reg_lambda': 3.8617457195598663}. Best is trial 22 with value: 0.9574971175062479.\n",
      "[I 2025-07-07 18:04:59,971] Trial 34 finished with value: 0.941679981739329 and parameters: {'max_depth': 7, 'learning_rate': 0.09360127995283071, 'subsample': 0.5013670373253689, 'colsample_bytree': 0.8566757466164882, 'gamma': 0.03559697349101207, 'reg_alpha': 0.20314990169687358, 'reg_lambda': 3.7629485024974025}. Best is trial 22 with value: 0.9574971175062479.\n",
      "[I 2025-07-07 18:05:01,188] Trial 35 finished with value: 0.911046535447357 and parameters: {'max_depth': 6, 'learning_rate': 0.01495419713163442, 'subsample': 0.5392878430768536, 'colsample_bytree': 0.9307949469203042, 'gamma': 0.10345847004652285, 'reg_alpha': 0.3074332844457669, 'reg_lambda': 2.9361021023854876}. Best is trial 22 with value: 0.9574971175062479.\n",
      "[I 2025-07-07 18:05:02,118] Trial 36 finished with value: 0.9505849852802603 and parameters: {'max_depth': 5, 'learning_rate': 0.06379330641955998, 'subsample': 0.6079030898677436, 'colsample_bytree': 0.9685248551639083, 'gamma': 0.22767282116570614, 'reg_alpha': 0.14264669035252145, 'reg_lambda': 1.8485300876879034}. Best is trial 22 with value: 0.9574971175062479.\n",
      "[I 2025-07-07 18:05:03,007] Trial 37 finished with value: 0.9476146998402192 and parameters: {'max_depth': 5, 'learning_rate': 0.06584324568305987, 'subsample': 0.8406581428807232, 'colsample_bytree': 0.85797713420014, 'gamma': 0.21054492829498367, 'reg_alpha': 0.43335104829210663, 'reg_lambda': 1.7661695059992586}. Best is trial 22 with value: 0.9574971175062479.\n",
      "[I 2025-07-07 18:05:03,704] Trial 38 finished with value: 0.9288331314124513 and parameters: {'max_depth': 4, 'learning_rate': 0.022971074224820434, 'subsample': 0.6115408691721778, 'colsample_bytree': 0.956929662566047, 'gamma': 0.24421291093620287, 'reg_alpha': 0.12973559486656788, 'reg_lambda': 1.800324083164691}. Best is trial 22 with value: 0.9574971175062479.\n",
      "[I 2025-07-07 18:05:05,001] Trial 39 finished with value: 0.9347678495133414 and parameters: {'max_depth': 6, 'learning_rate': 0.01786324807861451, 'subsample': 0.6565684267428993, 'colsample_bytree': 0.7376109579587405, 'gamma': 0.07643670962082885, 'reg_alpha': 0.5683863645697694, 'reg_lambda': 1.0205135288264993}. Best is trial 22 with value: 0.9574971175062479.\n",
      "[I 2025-07-07 18:05:05,980] Trial 40 finished with value: 0.9406967148350395 and parameters: {'max_depth': 5, 'learning_rate': 0.033251635228683324, 'subsample': 0.7206014218278198, 'colsample_bytree': 0.9166681147926725, 'gamma': 0.16556702007468296, 'reg_alpha': 0.26331424697307215, 'reg_lambda': 2.270954023491772}. Best is trial 22 with value: 0.9574971175062479.\n",
      "[I 2025-07-07 18:05:06,497] Trial 41 finished with value: 0.9486038195237008 and parameters: {'max_depth': 4, 'learning_rate': 0.13182671485339656, 'subsample': 0.5279155423235848, 'colsample_bytree': 0.9481684618877022, 'gamma': 0.2950047169678574, 'reg_alpha': 0.1462712076789659, 'reg_lambda': 4.444781466396666}. Best is trial 22 with value: 0.9574971175062479.\n",
      "[I 2025-07-07 18:05:07,306] Trial 42 finished with value: 0.9495900128175864 and parameters: {'max_depth': 6, 'learning_rate': 0.09859256947566682, 'subsample': 0.5748566201147651, 'colsample_bytree': 0.9792340516491821, 'gamma': 0.12571424533117945, 'reg_alpha': 0.18958475258988264, 'reg_lambda': 5.758189679993418}. Best is trial 22 with value: 0.9574971175062479.\n",
      "[I 2025-07-07 18:05:08,158] Trial 43 finished with value: 0.9505849852802603 and parameters: {'max_depth': 7, 'learning_rate': 0.14408145744189427, 'subsample': 0.6089390849387766, 'colsample_bytree': 0.9646592059667332, 'gamma': 0.28472905095805967, 'reg_alpha': 0.08308500767506932, 'reg_lambda': 6.812759529910314}. Best is trial 22 with value: 0.9574971175062479.\n",
      "[I 2025-07-07 18:05:09,387] Trial 44 finished with value: 0.9456452396420439 and parameters: {'max_depth': 7, 'learning_rate': 0.0803777260566027, 'subsample': 0.6530233615589189, 'colsample_bytree': 0.6588392272824779, 'gamma': 0.24751270885030136, 'reg_alpha': 0.0577967205421793, 'reg_lambda': 7.327695379502443}. Best is trial 22 with value: 0.9574971175062479.\n",
      "[I 2025-07-07 18:05:10,130] Trial 45 finished with value: 0.9436670002750805 and parameters: {'max_depth': 6, 'learning_rate': 0.13468799584256336, 'subsample': 0.6065689705471893, 'colsample_bytree': 0.8790024707010304, 'gamma': 0.3556208591417474, 'reg_alpha': 0.8391618558993742, 'reg_lambda': 8.12839997289889}. Best is trial 22 with value: 0.9574971175062479.\n",
      "[I 2025-07-07 18:05:11,619] Trial 46 finished with value: 0.9377293557845944 and parameters: {'max_depth': 7, 'learning_rate': 0.056348200219072705, 'subsample': 0.9983247663341627, 'colsample_bytree': 0.9730848617959299, 'gamma': 0.22711835472343167, 'reg_alpha': 0.07684691527418333, 'reg_lambda': 7.059641236500104}. Best is trial 22 with value: 0.9574971175062479.\n",
      "[I 2025-07-07 18:05:12,855] Trial 47 finished with value: 0.9505791325010682 and parameters: {'max_depth': 7, 'learning_rate': 0.15254995551861392, 'subsample': 0.7642185584872466, 'colsample_bytree': 0.9274553668017549, 'gamma': 0.04342339098621207, 'reg_alpha': 0.24045219442205584, 'reg_lambda': 6.794493846783416}. Best is trial 22 with value: 0.9574971175062479.\n",
      "[I 2025-07-07 18:05:13,898] Trial 48 finished with value: 0.9436670002750805 and parameters: {'max_depth': 7, 'learning_rate': 0.10415217909666152, 'subsample': 0.6862058590165673, 'colsample_bytree': 0.8144639167935132, 'gamma': 0.19707085213425965, 'reg_alpha': 0.35699969551769295, 'reg_lambda': 7.861054773927327}. Best is trial 22 with value: 0.9574971175062479.\n",
      "[I 2025-07-07 18:05:15,495] Trial 49 finished with value: 0.9011641177813284 and parameters: {'max_depth': 6, 'learning_rate': 0.009275536858486174, 'subsample': 0.6018465897180935, 'colsample_bytree': 0.7891850446374509, 'gamma': 0.274854919397372, 'reg_alpha': 0.10045568057605, 'reg_lambda': 5.951334073434909}. Best is trial 22 with value: 0.9574971175062479.\n"
     ]
    },
    {
     "name": "stdout",
     "output_type": "stream",
     "text": [
      "✅ Best hyperparameters: {'max_depth': 7, 'learning_rate': 0.12431321726210519, 'subsample': 0.5584401559373892, 'colsample_bytree': 0.9324235557445519, 'gamma': 0.09204713730776512, 'reg_alpha': 0.08747601783034795, 'reg_lambda': 3.9319578342596}\n"
     ]
    }
   ],
   "source": [
    "pos_weight = (y_resampled == 0).sum() / (y_resampled == 1).sum()\n",
    "\n",
    "\n",
    "# Train XGBoost Classifier\n",
    "def objective(trial):\n",
    "    params = {\n",
    "        'max_depth': trial.suggest_int('max_depth', 3, 9),\n",
    "        'learning_rate': trial.suggest_float('learning_rate', 1e-3, 0.2, log=True),\n",
    "        'subsample': trial.suggest_float('subsample', 0.5, 1.0),\n",
    "        'colsample_bytree': trial.suggest_float('colsample_bytree', 0.5, 1.0),\n",
    "        'gamma': trial.suggest_float('gamma', 0, 0.5),\n",
    "        'reg_alpha': trial.suggest_float('reg_alpha', 0, 1.0),\n",
    "        'reg_lambda': trial.suggest_float('reg_lambda', 1, 10),\n",
    "        'scale_pos_weight': pos_weight,\n",
    "        'tree_method': 'hist',\n",
    "        'use_label_encoder': False,\n",
    "        'eval_metric': 'logloss',\n",
    "        'random_state': 42,\n",
    "    }\n",
    "    clf = XGBClassifier(**params)\n",
    "    scores = cross_val_score(\n",
    "        clf, X_resampled, y_resampled,\n",
    "        cv=StratifiedKFold(n_splits=3, shuffle=True, random_state=42),\n",
    "        scoring='accuracy',\n",
    "        n_jobs=-1\n",
    "    )\n",
    "    return scores.mean()\n",
    "\n",
    "# 3️⃣ Run Optuna study\n",
    "study = optuna.create_study(direction='maximize')\n",
    "study.optimize(objective, n_trials=50)  # adjust n_trials as needed\n",
    "\n",
    "# 4️⃣ Train best model and evaluate on test set\n",
    "best_params = study.best_params\n",
    "best_clf = XGBClassifier(**best_params)\n",
    "best_clf.fit(X_resampled, y_resampled)\n",
    "y_pred = best_clf.predict(X_test_scaled)\n",
    "\n",
    "print(\"✅ Best hyperparameters:\", best_params)"
   ]
  },
  {
   "cell_type": "code",
   "execution_count": 5,
   "id": "5e251ea8",
   "metadata": {},
   "outputs": [
    {
     "name": "stdout",
     "output_type": "stream",
     "text": [
      "✅ Model Evaluation Results:\n",
      "Accuracy: 0.9556650246305419\n",
      "\n",
      "Classification Report:\n",
      "               precision    recall  f1-score   support\n",
      "\n",
      "           0       0.95      0.94      0.94        77\n",
      "           1       0.96      0.97      0.96       126\n",
      "\n",
      "    accuracy                           0.96       203\n",
      "   macro avg       0.95      0.95      0.95       203\n",
      "weighted avg       0.96      0.96      0.96       203\n",
      "\n"
     ]
    }
   ],
   "source": [
    "print(\"✅ Model Evaluation Results:\")\n",
    "print(\"Accuracy:\", accuracy_score(y_test, y_pred))\n",
    "print(\"\\nClassification Report:\\n\", classification_report(y_test, y_pred))"
   ]
  },
  {
   "cell_type": "code",
   "execution_count": 6,
   "id": "15a2d397",
   "metadata": {},
   "outputs": [
    {
     "data": {
      "image/png": "[encoded data removed]",
      "text/plain": [
       "<Figure size 600x400 with 2 Axes>"
      ]
     },
     "metadata": {},
     "output_type": "display_data"
    }
   ],
   "source": [
    "cm = confusion_matrix(y_test, y_pred)\n",
    "plt.figure(figsize=(6, 4))\n",
    "sns.heatmap(cm, annot=True, fmt='d', cmap='Blues', xticklabels=[\"Normal\", \"Cracked\"], yticklabels=[\"Normal\", \"Cracked\"])\n",
    "plt.title(\"Confusion Matrix\")\n",
    "plt.xlabel(\"Predicted\")\n",
    "plt.ylabel(\"Actual\")\n",
    "plt.tight_layout()\n",
    "plt.show()"
   ]
  },
  {
   "cell_type": "code",
   "execution_count": 7,
   "id": "185be235",
   "metadata": {},
   "outputs": [
    {
     "data": {
      "text/plain": [
       "['xgb_model.pkl']"
      ]
     },
     "execution_count": 7,
     "metadata": {},
     "output_type": "execute_result"
    }
   ],
   "source": [
    "joblib.dump(scaler, \"scaler.pkl\")\n",
    "joblib.dump(pca, \"pca.pkl\")\n",
    "joblib.dump(best_clf, \"xgb_model.pkl\")"
   ]
  }
 ],
 "metadata": {
  "kernelspec": {
   "display_name": "venv",
   "language": "python",
   "name": "python3"
  },
  "language_info": {
   "codemirror_mode": {
    "name": "ipython",
    "version": 3
   },
   "file_extension": ".py",
   "mimetype": "text/x-python",
   "name": "python",
   "nbconvert_exporter": "python",
   "pygments_lexer": "ipython3",
   "version": "3.12.4"
  }
 },
 "nbformat": 4,
 "nbformat_minor": 5
}
