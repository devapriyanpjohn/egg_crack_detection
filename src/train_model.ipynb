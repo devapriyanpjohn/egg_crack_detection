{
 "cells": [
  {
   "cell_type": "code",
   "execution_count": 1,
   "id": "72094b7f",
   "metadata": {},
   "outputs": [],
   "source": [
    "import pandas as pd\n",
    "import numpy as np\n",
    "from sklearn.model_selection import train_test_split,StratifiedKFold,cross_val_score\n",
    "from sklearn.preprocessing import StandardScaler\n",
    "from sklearn.decomposition import PCA\n",
    "from imblearn.over_sampling import SMOTE\n",
    "from xgboost import XGBClassifier\n",
    "from sklearn.metrics import classification_report, accuracy_score, confusion_matrix\n",
    "import matplotlib.pyplot as plt\n",
    "import seaborn as sns\n",
    "import optuna\n",
    "import joblib"
   ]
  },
  {
   "cell_type": "code",
   "execution_count": 2,
   "id": "e357ac30",
   "metadata": {},
   "outputs": [],
   "source": [
    "df_feats = pd.read_csv(\"features.csv\")     # handcrafted + relative paths\n",
    "df_embeds = pd.read_csv(\"cnn_embeddings.csv\")  # CNN embeddings\n",
    "\n",
    "\n",
    "X_hand = df_feats.drop(columns=[\"relpath\", \"label\"]).values\n",
    "X_cnn = df_embeds.values\n",
    "y = df_feats[\"label\"].values\n",
    "\n",
    "# 2️⃣ Reduce CNN embedding size with PCA\n",
    "pca = PCA(n_components=50, random_state=42)\n",
    "X_cnn_reduced = pca.fit_transform(X_cnn)\n",
    "\n",
    "# 3️⃣ Merge features\n",
    "X = np.hstack([X_hand, X_cnn_reduced]).astype(np.float32)"
   ]
  },
  {
   "cell_type": "code",
   "execution_count": 3,
   "id": "727e4ed7",
   "metadata": {},
   "outputs": [],
   "source": [
    "X_train, X_test, y_train, y_test = train_test_split(X, y, test_size=0.2, stratify=y, random_state=42)\n",
    "\n",
    "# Step 4: Feature scaling (optional but recommended for some models)\n",
    "scaler = StandardScaler().fit(X_train)\n",
    "X_train_scaled = scaler.transform(X_train).astype(np.float32)\n",
    "X_test_scaled = scaler.transform(X_test).astype(np.float32)\n",
    "\n",
    "smote = SMOTE(random_state=42)\n",
    "X_resampled, y_resampled = smote.fit_resample(X_train_scaled, y_train)"
   ]
  },
  {
   "cell_type": "code",
   "execution_count": 4,
   "id": "bbffcf8f",
   "metadata": {},
   "outputs": [
    {
     "name": "stderr",
     "output_type": "stream",
     "text": [
      "[I 2025-07-26 23:36:55,260] A new study created in memory with name: no-name-9d7d7bee-3198-4bd6-a1ee-4badf922be99\n"
     ]
    },
    {
     "name": "stderr",
     "output_type": "stream",
     "text": [
      "[I 2025-07-26 23:37:10,339] Trial 0 finished with value: 0.9515741049637421 and parameters: {'max_depth': 7, 'learning_rate': 0.19884162633088126, 'subsample': 0.987758490966437, 'colsample_bytree': 0.6149130493534185, 'gamma': 0.019531879819467468, 'reg_alpha': 0.5775968360222922, 'reg_lambda': 1.7515500208288441}. Best is trial 0 with value: 0.9515741049637421.\n",
      "[I 2025-07-26 23:37:19,545] Trial 1 finished with value: 0.9149971614020918 and parameters: {'max_depth': 5, 'learning_rate': 0.015586810125005733, 'subsample': 0.702416757034543, 'colsample_bytree': 0.9845372977401772, 'gamma': 0.3670622203862981, 'reg_alpha': 0.018489161812918375, 'reg_lambda': 2.0913073058856804}. Best is trial 0 with value: 0.9515741049637421.\n",
      "[I 2025-07-26 23:37:28,450] Trial 2 finished with value: 0.9446502671793701 and parameters: {'max_depth': 8, 'learning_rate': 0.09313039131757622, 'subsample': 0.9935830148172462, 'colsample_bytree': 0.8237390426165474, 'gamma': 0.43465462189741116, 'reg_alpha': 0.8279704822774694, 'reg_lambda': 3.7965094189308783}. Best is trial 0 with value: 0.9515741049637421.\n",
      "[I 2025-07-26 23:37:28,754] Trial 3 finished with value: 0.8557055817955156 and parameters: {'max_depth': 3, 'learning_rate': 0.010207298936281839, 'subsample': 0.7895638201347871, 'colsample_bytree': 0.8422854746296959, 'gamma': 0.0955993072303088, 'reg_alpha': 0.024380208726095032, 'reg_lambda': 2.491569001464588}. Best is trial 0 with value: 0.9515741049637421.\n",
      "[I 2025-07-26 23:37:29,003] Trial 4 finished with value: 0.945642313252448 and parameters: {'max_depth': 3, 'learning_rate': 0.1669907817020095, 'subsample': 0.5089773967232964, 'colsample_bytree': 0.861136891243957, 'gamma': 0.06865311233097937, 'reg_alpha': 0.6809083634866558, 'reg_lambda': 5.1946755855202555}. Best is trial 0 with value: 0.9515741049637421.\n",
      "[I 2025-07-26 23:37:29,744] Trial 5 finished with value: 0.9436699266646768 and parameters: {'max_depth': 9, 'learning_rate': 0.07664672282260003, 'subsample': 0.5081423747736009, 'colsample_bytree': 0.9197472745046901, 'gamma': 0.42407539500566566, 'reg_alpha': 0.8712888906969313, 'reg_lambda': 5.867641922814704}. Best is trial 0 with value: 0.9515741049637421.\n",
      "[I 2025-07-26 23:37:30,562] Trial 6 finished with value: 0.9179703732317291 and parameters: {'max_depth': 5, 'learning_rate': 0.005351822991093993, 'subsample': 0.8273260464477902, 'colsample_bytree': 0.7120986032734985, 'gamma': 0.2605912927481286, 'reg_alpha': 0.8532868366146256, 'reg_lambda': 3.1618595332340353}. Best is trial 0 with value: 0.9515741049637421.\n",
      "[I 2025-07-26 23:37:31,457] Trial 7 finished with value: 0.9525544454784355 and parameters: {'max_depth': 5, 'learning_rate': 0.08207738429612532, 'subsample': 0.7337963747234053, 'colsample_bytree': 0.726966275281155, 'gamma': 0.45795794733754136, 'reg_alpha': 0.7539674893004814, 'reg_lambda': 1.7295610804136519}. Best is trial 7 with value: 0.9525544454784355.\n",
      "[I 2025-07-26 23:37:33,114] Trial 8 finished with value: 0.8586670880667686 and parameters: {'max_depth': 5, 'learning_rate': 0.0015609335444675284, 'subsample': 0.6951992060098396, 'colsample_bytree': 0.999014477063743, 'gamma': 0.12180897292196174, 'reg_alpha': 0.5066211963838464, 'reg_lambda': 4.0975517637392525}. Best is trial 7 with value: 0.9525544454784355.\n",
      "[I 2025-07-26 23:37:34,450] Trial 9 finished with value: 0.8586729408459607 and parameters: {'max_depth': 6, 'learning_rate': 0.004225036525444996, 'subsample': 0.5601964853375996, 'colsample_bytree': 0.9833615209651518, 'gamma': 0.4677186472788553, 'reg_alpha': 0.4105010035521004, 'reg_lambda': 6.367164017199213}. Best is trial 7 with value: 0.9525544454784355.\n",
      "[I 2025-07-26 23:37:35,243] Trial 10 finished with value: 0.9238875329950428 and parameters: {'max_depth': 4, 'learning_rate': 0.03431870523727835, 'subsample': 0.8870014386602938, 'colsample_bytree': 0.505224021821054, 'gamma': 0.30349296276801785, 'reg_alpha': 0.2724905413174915, 'reg_lambda': 9.56155061788267}. Best is trial 7 with value: 0.9525544454784355.\n",
      "[I 2025-07-26 23:37:35,959] Trial 11 finished with value: 0.9476234790090076 and parameters: {'max_depth': 7, 'learning_rate': 0.19490881935758564, 'subsample': 0.9997550072703238, 'colsample_bytree': 0.6497235608198245, 'gamma': 0.1944166164694841, 'reg_alpha': 0.6227813536649079, 'reg_lambda': 1.4872319841008896}. Best is trial 7 with value: 0.9525544454784355.\n",
      "[I 2025-07-26 23:37:37,260] Trial 12 finished with value: 0.9505762061114721 and parameters: {'max_depth': 7, 'learning_rate': 0.048087403554930144, 'subsample': 0.6723167414819454, 'colsample_bytree': 0.598995093657451, 'gamma': 0.028153286532151017, 'reg_alpha': 0.6548390027058956, 'reg_lambda': 1.0385077191636478}. Best is trial 7 with value: 0.9525544454784355.\n",
      "[I 2025-07-26 23:37:38,795] Trial 13 finished with value: 0.9367460888803049 and parameters: {'max_depth': 7, 'learning_rate': 0.028367991811395973, 'subsample': 0.9072913326650416, 'colsample_bytree': 0.7112060219946805, 'gamma': 0.16911138018742905, 'reg_alpha': 0.9856806829587349, 'reg_lambda': 6.8508798475303445}. Best is trial 7 with value: 0.9525544454784355.\n",
      "[I 2025-07-26 23:37:39,744] Trial 14 finished with value: 0.9416887609081172 and parameters: {'max_depth': 6, 'learning_rate': 0.08487748335047496, 'subsample': 0.6203502883225485, 'colsample_bytree': 0.5907054234750714, 'gamma': 0.3588097208217008, 'reg_alpha': 0.369477360644331, 'reg_lambda': 8.045340668514076}. Best is trial 7 with value: 0.9525544454784355.\n",
      "[I 2025-07-26 23:37:40,878] Trial 15 finished with value: 0.9515682521845498 and parameters: {'max_depth': 9, 'learning_rate': 0.19035226329464847, 'subsample': 0.7812508868311655, 'colsample_bytree': 0.784734906782493, 'gamma': 0.0021571068814165706, 'reg_alpha': 0.5533880449152783, 'reg_lambda': 4.590391671011134}. Best is trial 7 with value: 0.9525544454784355.\n",
      "[I 2025-07-26 23:37:42,251] Trial 16 finished with value: 0.9505820588906643 and parameters: {'max_depth': 8, 'learning_rate': 0.05719230103387087, 'subsample': 0.860682999075794, 'colsample_bytree': 0.5107686905628732, 'gamma': 0.21343121424452952, 'reg_alpha': 0.7239575598168781, 'reg_lambda': 3.028008234005453}. Best is trial 7 with value: 0.9525544454784355.\n",
      "[I 2025-07-26 23:37:42,886] Trial 17 finished with value: 0.925865772362006 and parameters: {'max_depth': 4, 'learning_rate': 0.018480689259543583, 'subsample': 0.9337437854703503, 'colsample_bytree': 0.6418446196693488, 'gamma': 0.28625939636529657, 'reg_alpha': 0.18020307979816252, 'reg_lambda': 1.9305804372783213}. Best is trial 7 with value: 0.9525544454784355.\n",
      "[I 2025-07-26 23:37:43,548] Trial 18 finished with value: 0.9505849852802603 and parameters: {'max_depth': 6, 'learning_rate': 0.11177031743660126, 'subsample': 0.7536033011739042, 'colsample_bytree': 0.738786519632622, 'gamma': 0.35353248693227807, 'reg_alpha': 0.7757543897637005, 'reg_lambda': 1.0060058926978308}. Best is trial 7 with value: 0.9525544454784355.\n",
      "[I 2025-07-26 23:37:44,645] Trial 19 finished with value: 0.9347649231237453 and parameters: {'max_depth': 8, 'learning_rate': 0.0325966331839222, 'subsample': 0.624251452458092, 'colsample_bytree': 0.6527005619429012, 'gamma': 0.48706849702988403, 'reg_alpha': 0.9994834852701935, 'reg_lambda': 3.058811142514579}. Best is trial 7 with value: 0.9525544454784355.\n",
      "[I 2025-07-26 23:37:45,298] Trial 20 finished with value: 0.9515741049637421 and parameters: {'max_depth': 5, 'learning_rate': 0.13445774174113673, 'subsample': 0.8263924418666534, 'colsample_bytree': 0.5717013483928379, 'gamma': 0.13610439901290056, 'reg_alpha': 0.5712946128652678, 'reg_lambda': 7.990771503833031}. Best is trial 7 with value: 0.9525544454784355.\n",
      "[I 2025-07-26 23:37:45,782] Trial 21 finished with value: 0.9505820588906642 and parameters: {'max_depth': 4, 'learning_rate': 0.12816310505441939, 'subsample': 0.8312335787419152, 'colsample_bytree': 0.5615944335035354, 'gamma': 0.14537968563595358, 'reg_alpha': 0.5771657017550221, 'reg_lambda': 7.733246380567044}. Best is trial 7 with value: 0.9525544454784355.\n",
      "[I 2025-07-26 23:37:46,597] Trial 22 finished with value: 0.9426720278124067 and parameters: {'max_depth': 5, 'learning_rate': 0.057308317760098246, 'subsample': 0.9467340399802642, 'colsample_bytree': 0.5551506909543859, 'gamma': 0.057835475523313924, 'reg_alpha': 0.47581707137202245, 'reg_lambda': 9.955106425122555}. Best is trial 7 with value: 0.9525544454784355.\n",
      "[I 2025-07-26 23:37:47,373] Trial 23 finished with value: 0.9495929392071826 and parameters: {'max_depth': 6, 'learning_rate': 0.12314255063256499, 'subsample': 0.7340641810386113, 'colsample_bytree': 0.6886813763359056, 'gamma': 0.10763821373164806, 'reg_alpha': 0.42253474880276753, 'reg_lambda': 8.908687595050992}. Best is trial 7 with value: 0.9525544454784355.\n",
      "[I 2025-07-26 23:37:47,905] Trial 24 finished with value: 0.942677880591599 and parameters: {'max_depth': 4, 'learning_rate': 0.07390354192843566, 'subsample': 0.8155550778517474, 'colsample_bytree': 0.6146400641914114, 'gamma': 0.21862354296182668, 'reg_alpha': 0.7381874917049882, 'reg_lambda': 7.323174069602557}. Best is trial 7 with value: 0.9525544454784355.\n",
      "[I 2025-07-26 23:37:48,908] Trial 25 finished with value: 0.9535523443307055 and parameters: {'max_depth': 7, 'learning_rate': 0.1201987765781523, 'subsample': 0.9629351860590099, 'colsample_bytree': 0.7667181851658853, 'gamma': 0.03133803616891563, 'reg_alpha': 0.30160926170448876, 'reg_lambda': 5.3524815011456495}. Best is trial 25 with value: 0.9535523443307055.\n",
      "[I 2025-07-26 23:37:50,440] Trial 26 finished with value: 0.9001779244874428 and parameters: {'max_depth': 7, 'learning_rate': 0.0011457319119772586, 'subsample': 0.9575538731643618, 'colsample_bytree': 0.7760218849916587, 'gamma': 0.0051379748883572385, 'reg_alpha': 0.29564397124525965, 'reg_lambda': 4.881323751864079}. Best is trial 25 with value: 0.9535523443307055.\n",
      "[I 2025-07-26 23:37:51,856] Trial 27 finished with value: 0.9495958655967787 and parameters: {'max_depth': 8, 'learning_rate': 0.04517116471525056, 'subsample': 0.9060086980384541, 'colsample_bytree': 0.7638028867171965, 'gamma': 0.05698378708679287, 'reg_alpha': 0.14064590985927228, 'reg_lambda': 3.8216325329589895}. Best is trial 25 with value: 0.9535523443307055.\n",
      "[I 2025-07-26 23:37:53,503] Trial 28 finished with value: 0.9248795790681205 and parameters: {'max_depth': 7, 'learning_rate': 0.022647634865455787, 'subsample': 0.9701657466036727, 'colsample_bytree': 0.8839286457448868, 'gamma': 0.0812758285809056, 'reg_alpha': 0.33290584885822816, 'reg_lambda': 2.4892680413631876}. Best is trial 25 with value: 0.9535523443307055.\n",
      "[I 2025-07-26 23:37:54,843] Trial 29 finished with value: 0.9100574157638754 and parameters: {'max_depth': 6, 'learning_rate': 0.010743275420009975, 'subsample': 0.864582748306913, 'colsample_bytree': 0.8098603165701888, 'gamma': 0.4058755993783422, 'reg_alpha': 0.19115883190317573, 'reg_lambda': 5.719927591524104}. Best is trial 25 with value: 0.9535523443307055.\n",
      "[I 2025-07-26 23:37:55,397] Trial 30 finished with value: 0.9476264053986035 and parameters: {'max_depth': 7, 'learning_rate': 0.14258005602641327, 'subsample': 0.6488881663325192, 'colsample_bytree': 0.6754716784046372, 'gamma': 0.32244262634999254, 'reg_alpha': 0.9137828598461195, 'reg_lambda': 1.9758257929656435}. Best is trial 25 with value: 0.9535523443307055.\n",
      "[I 2025-07-26 23:37:56,062] Trial 31 finished with value: 0.9486038195237009 and parameters: {'max_depth': 5, 'learning_rate': 0.10741641101873424, 'subsample': 0.724235180072375, 'colsample_bytree': 0.5659053560564936, 'gamma': 0.041953464790867326, 'reg_alpha': 0.5597778209624901, 'reg_lambda': 8.369648364308176}. Best is trial 25 with value: 0.9535523443307055.\n",
      "[I 2025-07-26 23:37:56,933] Trial 32 finished with value: 0.9505879116698565 and parameters: {'max_depth': 6, 'learning_rate': 0.07776216071161048, 'subsample': 0.9269064503097015, 'colsample_bytree': 0.5352865779474009, 'gamma': 0.13688252431043635, 'reg_alpha': 0.46694559473614405, 'reg_lambda': 6.569101013619861}. Best is trial 25 with value: 0.9535523443307055.\n",
      "[I 2025-07-26 23:37:57,490] Trial 33 finished with value: 0.9436699266646768 and parameters: {'max_depth': 5, 'learning_rate': 0.1547537696812612, 'subsample': 0.9747914108944002, 'colsample_bytree': 0.7333501973060261, 'gamma': 0.174473467078608, 'reg_alpha': 0.7994480936336807, 'reg_lambda': 2.5561047089136335}. Best is trial 25 with value: 0.9535523443307055.\n",
      "[I 2025-07-26 23:37:58,589] Trial 34 finished with value: 0.9505820588906643 and parameters: {'max_depth': 8, 'learning_rate': 0.10435802209009226, 'subsample': 0.7794369796225488, 'colsample_bytree': 0.6235260923723256, 'gamma': 0.09563070574499744, 'reg_alpha': 0.6254934040050681, 'reg_lambda': 4.281488968591942}. Best is trial 25 with value: 0.9535523443307055.\n",
      "[I 2025-07-26 23:37:59,366] Trial 35 finished with value: 0.9565138506019584 and parameters: {'max_depth': 5, 'learning_rate': 0.19617732848126002, 'subsample': 0.8571406462414759, 'colsample_bytree': 0.8143600489304117, 'gamma': 0.03249357194593136, 'reg_alpha': 0.0006629487154761193, 'reg_lambda': 3.3447873762550975}. Best is trial 35 with value: 0.9565138506019584.\n",
      "[I 2025-07-26 23:37:59,778] Trial 36 finished with value: 0.9535494179411094 and parameters: {'max_depth': 3, 'learning_rate': 0.18382833630545917, 'subsample': 0.8654824739462978, 'colsample_bytree': 0.8121974736972787, 'gamma': 0.028609255061282347, 'reg_alpha': 0.045488852713217676, 'reg_lambda': 3.3654640304108514}. Best is trial 35 with value: 0.9565138506019584.\n",
      "[I 2025-07-26 23:38:00,203] Trial 37 finished with value: 0.9515682521845498 and parameters: {'max_depth': 3, 'learning_rate': 0.19184433687459285, 'subsample': 0.8522299415449209, 'colsample_bytree': 0.8182716802230177, 'gamma': 0.024289986902836014, 'reg_alpha': 0.008296908415454728, 'reg_lambda': 3.491315135332365}. Best is trial 35 with value: 0.9565138506019584.\n",
      "[I 2025-07-26 23:38:00,683] Trial 38 finished with value: 0.9367490152699008 and parameters: {'max_depth': 3, 'learning_rate': 0.06214908490538654, 'subsample': 0.7580031077597793, 'colsample_bytree': 0.8780563189406635, 'gamma': 0.08190741774305793, 'reg_alpha': 0.060125286324658224, 'reg_lambda': 4.953894177623962}. Best is trial 35 with value: 0.9565138506019584.\n",
      "[I 2025-07-26 23:38:01,497] Trial 39 finished with value: 0.8665800455346222 and parameters: {'max_depth': 4, 'learning_rate': 0.005060671531704304, 'subsample': 0.8946510154337279, 'colsample_bytree': 0.9271233761391224, 'gamma': 0.2472176285179853, 'reg_alpha': 0.07762075080040394, 'reg_lambda': 2.3551106241133755}. Best is trial 35 with value: 0.9565138506019584.\n",
      "[I 2025-07-26 23:38:01,986] Trial 40 finished with value: 0.942677880591599 and parameters: {'max_depth': 3, 'learning_rate': 0.08919810488074453, 'subsample': 0.703188516390922, 'colsample_bytree': 0.850212844030156, 'gamma': 0.047874634192616936, 'reg_alpha': 0.23998861810752645, 'reg_lambda': 5.4581431761056285}. Best is trial 35 with value: 0.9565138506019584.\n",
      "[I 2025-07-26 23:38:02,883] Trial 41 finished with value: 0.9486125986924892 and parameters: {'max_depth': 6, 'learning_rate': 0.15930642183449442, 'subsample': 0.9769085186545031, 'colsample_bytree': 0.7965059311972041, 'gamma': 0.023624684718287603, 'reg_alpha': 0.11135316501506008, 'reg_lambda': 1.5082012332335917}. Best is trial 35 with value: 0.9565138506019584.\n",
      "[I 2025-07-26 23:38:03,919] Trial 42 finished with value: 0.9476146998402192 and parameters: {'max_depth': 7, 'learning_rate': 0.1561764893326707, 'subsample': 0.994367254163785, 'colsample_bytree': 0.8340237544348046, 'gamma': 0.0007774546984803121, 'reg_alpha': 0.04493199209022192, 'reg_lambda': 1.5470516213703687}. Best is trial 35 with value: 0.9565138506019584.\n",
      "[I 2025-07-26 23:38:04,613] Trial 43 finished with value: 0.8893151663067207 and parameters: {'max_depth': 4, 'learning_rate': 0.0026764099646895503, 'subsample': 0.9215762955637463, 'colsample_bytree': 0.7631851155576422, 'gamma': 0.07188404327676735, 'reg_alpha': 0.12855901031514366, 'reg_lambda': 3.6658305731568146}. Best is trial 35 with value: 0.9565138506019584.\n",
      "[I 2025-07-26 23:38:05,067] Trial 44 finished with value: 0.9486038195237009 and parameters: {'max_depth': 5, 'learning_rate': 0.19420456857697144, 'subsample': 0.8822562781921823, 'colsample_bytree': 0.7176873020907156, 'gamma': 0.4358280478413922, 'reg_alpha': 0.2040209725090129, 'reg_lambda': 3.0040317381778845}. Best is trial 35 with value: 0.9565138506019584.\n",
      "[I 2025-07-26 23:38:06,120] Trial 45 finished with value: 0.9426720278124067 and parameters: {'max_depth': 7, 'learning_rate': 0.09834026076336784, 'subsample': 0.8049550786184037, 'colsample_bytree': 0.9155530315794745, 'gamma': 0.10520257008580657, 'reg_alpha': 0.6820751253845175, 'reg_lambda': 6.053687846247634}. Best is trial 35 with value: 0.9565138506019584.\n",
      "[I 2025-07-26 23:38:07,601] Trial 46 finished with value: 0.9416916872977134 and parameters: {'max_depth': 8, 'learning_rate': 0.04625069886267076, 'subsample': 0.9486899588463539, 'colsample_bytree': 0.8055763065264341, 'gamma': 0.038288796896769596, 'reg_alpha': 0.8734743883444368, 'reg_lambda': 4.382074239519205}. Best is trial 35 with value: 0.9565138506019584.\n",
      "[I 2025-07-26 23:38:08,836] Trial 47 finished with value: 0.9495929392071826 and parameters: {'max_depth': 9, 'learning_rate': 0.06835475279163265, 'subsample': 0.847248659312948, 'colsample_bytree': 0.6941838751492985, 'gamma': 0.023836390672995207, 'reg_alpha': 0.012341466079959729, 'reg_lambda': 2.753967577861281}. Best is trial 35 with value: 0.9565138506019584.\n",
      "[I 2025-07-26 23:38:09,723] Trial 48 finished with value: 0.9486038195237008 and parameters: {'max_depth': 6, 'learning_rate': 0.12059336606595217, 'subsample': 0.8836196362257848, 'colsample_bytree': 0.7520968989131878, 'gamma': 0.06861214573018648, 'reg_alpha': 0.3585730864241385, 'reg_lambda': 1.8978159059157598}. Best is trial 35 with value: 0.9565138506019584.\n",
      "[I 2025-07-26 23:38:10,556] Trial 49 finished with value: 0.9476146998402192 and parameters: {'max_depth': 5, 'learning_rate': 0.08915289270166814, 'subsample': 0.7997971111477808, 'colsample_bytree': 0.8312173539871035, 'gamma': 0.4520222451004197, 'reg_alpha': 0.413788188278032, 'reg_lambda': 3.4417840466894076}. Best is trial 35 with value: 0.9565138506019584.\n"
     ]
    },
    {
     "name": "stdout",
     "output_type": "stream",
     "text": [
      "✅ Best hyperparameters: {'max_depth': 5, 'learning_rate': 0.19617732848126002, 'subsample': 0.8571406462414759, 'colsample_bytree': 0.8143600489304117, 'gamma': 0.03249357194593136, 'reg_alpha': 0.0006629487154761193, 'reg_lambda': 3.3447873762550975}\n"
     ]
    }
   ],
   "source": [
    "pos_weight = (y_resampled == 0).sum() / (y_resampled == 1).sum()\n",
    "\n",
    "\n",
    "# Train XGBoost Classifier\n",
    "def objective(trial):\n",
    "    params = {\n",
    "        'max_depth': trial.suggest_int('max_depth', 3, 9),\n",
    "        'learning_rate': trial.suggest_float('learning_rate', 1e-3, 0.2, log=True),\n",
    "        'subsample': trial.suggest_float('subsample', 0.5, 1.0),\n",
    "        'colsample_bytree': trial.suggest_float('colsample_bytree', 0.5, 1.0),\n",
    "        'gamma': trial.suggest_float('gamma', 0, 0.5),\n",
    "        'reg_alpha': trial.suggest_float('reg_alpha', 0, 1.0),\n",
    "        'reg_lambda': trial.suggest_float('reg_lambda', 1, 10),\n",
    "        'scale_pos_weight': pos_weight,\n",
    "        'tree_method': 'hist',\n",
    "        'use_label_encoder': False,\n",
    "        'eval_metric': 'logloss',\n",
    "        'random_state': 42,\n",
    "    }\n",
    "    clf = XGBClassifier(**params)\n",
    "    scores = cross_val_score(\n",
    "        clf, X_resampled, y_resampled,\n",
    "        cv=StratifiedKFold(n_splits=3, shuffle=True, random_state=42),\n",
    "        scoring='accuracy',\n",
    "        n_jobs=-1\n",
    "    )\n",
    "    return scores.mean()\n",
    "\n",
    "# 3️⃣ Run Optuna study\n",
    "study = optuna.create_study(direction='maximize')\n",
    "study.optimize(objective, n_trials=50)  # adjust n_trials as needed\n",
    "\n",
    "# 4️⃣ Train best model and evaluate on test set\n",
    "best_params = study.best_params\n",
    "best_clf = XGBClassifier(**best_params)\n",
    "best_clf.fit(X_resampled, y_resampled)\n",
    "y_pred = best_clf.predict(X_test_scaled)\n",
    "\n",
    "print(\"✅ Best hyperparameters:\", best_params)"
   ]
  },
  {
   "cell_type": "code",
   "execution_count": 5,
   "id": "5e251ea8",
   "metadata": {},
   "outputs": [
    {
     "name": "stdout",
     "output_type": "stream",
     "text": [
      "✅ Model Evaluation Results:\n",
      "Accuracy: 0.9507389162561576\n",
      "\n",
      "Classification Report:\n",
      "               precision    recall  f1-score   support\n",
      "\n",
      "           0       0.94      0.94      0.94        77\n",
      "           1       0.96      0.96      0.96       126\n",
      "\n",
      "    accuracy                           0.95       203\n",
      "   macro avg       0.95      0.95      0.95       203\n",
      "weighted avg       0.95      0.95      0.95       203\n",
      "\n"
     ]
    }
   ],
   "source": [
    "print(\"✅ Model Evaluation Results:\")\n",
    "print(\"Accuracy:\", accuracy_score(y_test, y_pred))\n",
    "print(\"\\nClassification Report:\\n\", classification_report(y_test, y_pred))"
   ]
  },
  {
   "cell_type": "code",
   "execution_count": 6,
   "id": "15a2d397",
   "metadata": {},
   "outputs": [
    {
     "data": {
      "image/png": "[encoded data removed]",
      "text/plain": [
       "<Figure size 600x400 with 2 Axes>"
      ]
     },
     "metadata": {},
     "output_type": "display_data"
    }
   ],
   "source": [
    "cm = confusion_matrix(y_test, y_pred)\n",
    "plt.figure(figsize=(6, 4))\n",
    "sns.heatmap(cm, annot=True, fmt='d', cmap='Blues', xticklabels=[\"Normal\", \"Cracked\"], yticklabels=[\"Normal\", \"Cracked\"])\n",
    "plt.title(\"Confusion Matrix\")\n",
    "plt.xlabel(\"Predicted\")\n",
    "plt.ylabel(\"Actual\")\n",
    "plt.tight_layout()\n",
    "plt.show()"
   ]
  },
  {
   "cell_type": "code",
   "execution_count": 7,
   "id": "185be235",
   "metadata": {},
   "outputs": [
    {
     "data": {
      "text/plain": [
       "['xgb_model.pkl']"
      ]
     },
     "execution_count": 7,
     "metadata": {},
     "output_type": "execute_result"
    }
   ],
   "source": [
    "joblib.dump(scaler, \"scaler.pkl\")\n",
    "joblib.dump(pca, \"pca.pkl\")\n",
    "joblib.dump(best_clf, \"xgb_model.pkl\")"
   ]
  }
 ],
 "metadata": {
  "kernelspec": {
   "display_name": "venv (3.12.4)",
   "language": "python",
   "name": "python3"
  },
  "language_info": {
   "codemirror_mode": {
    "name": "ipython",
    "version": 3
   },
   "file_extension": ".py",
   "mimetype": "text/x-python",
   "name": "python",
   "nbconvert_exporter": "python",
   "pygments_lexer": "ipython3",
   "version": "3.12.4"
  }
 },
 "nbformat": 4,
 "nbformat_minor": 5
}
