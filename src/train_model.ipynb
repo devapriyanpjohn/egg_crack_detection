{
 "cells": [
  {
   "cell_type": "code",
   "execution_count": 2,
   "id": "72094b7f",
   "metadata": {},
   "outputs": [],
   "source": [
    "import pandas as pd\n",
    "import numpy as np\n",
    "from sklearn.model_selection import train_test_split,StratifiedKFold,cross_val_score\n",
    "from sklearn.preprocessing import StandardScaler\n",
    "from sklearn.decomposition import PCA\n",
    "from imblearn.over_sampling import SMOTE\n",
    "from xgboost import XGBClassifier\n",
    "from sklearn.metrics import classification_report, accuracy_score, confusion_matrix\n",
    "import matplotlib.pyplot as plt\n",
    "import seaborn as sns\n",
    "import optuna\n",
    "import joblib"
   ]
  },
  {
   "cell_type": "code",
   "execution_count": 3,
   "id": "e357ac30",
   "metadata": {},
   "outputs": [],
   "source": [
    "df_feats = pd.read_csv(\"features.csv\")     # handcrafted + relative paths\n",
    "df_embeds = pd.read_csv(\"cnn_embeddings.csv\")  # CNN embeddings\n",
    "\n",
    "\n",
    "X_hand = df_feats.drop(columns=[\"relpath\", \"label\"]).values\n",
    "X_cnn = df_embeds.values\n",
    "y = df_feats[\"label\"].values\n",
    "\n",
    "# 2️⃣ Reduce CNN embedding size with PCA\n",
    "pca = PCA(n_components=0.99, random_state=42)\n",
    "X_cnn_reduced = pca.fit_transform(X_cnn)\n",
    "\n",
    "# 3️⃣ Merge features\n",
    "X = np.hstack([X_hand, X_cnn_reduced]).astype(np.float32)"
   ]
  },
  {
   "cell_type": "code",
   "execution_count": 4,
   "id": "727e4ed7",
   "metadata": {},
   "outputs": [],
   "source": [
    "X_train, X_test, y_train, y_test = train_test_split(X, y, test_size=0.2, stratify=y, random_state=42)\n",
    "\n",
    "# Step 4: Feature scaling (optional but recommended for some models)\n",
    "scaler = StandardScaler().fit(X_train)\n",
    "X_train_scaled = scaler.transform(X_train).astype(np.float32)\n",
    "X_test_scaled = scaler.transform(X_test).astype(np.float32)\n",
    "\n",
    "smote = SMOTE(random_state=42)\n",
    "X_resampled, y_resampled = smote.fit_resample(X_train_scaled, y_train)"
   ]
  },
  {
   "cell_type": "code",
   "execution_count": 5,
   "id": "bbffcf8f",
   "metadata": {},
   "outputs": [
    {
     "name": "stderr",
     "output_type": "stream",
     "text": [
      "[I 2025-07-02 18:52:25,734] A new study created in memory with name: no-name-862d59cb-2b23-4940-8db3-9b3fc3ade025\n",
      "[I 2025-07-02 18:53:21,881] Trial 0 finished with value: 0.8586758672355569 and parameters: {'max_depth': 9, 'learning_rate': 0.003431135025592455, 'subsample': 0.5459678375723008, 'colsample_bytree': 0.6461390750071331, 'gamma': 0.18392556401334564, 'reg_alpha': 0.7966942317060441, 'reg_lambda': 9.868116489990934}. Best is trial 0 with value: 0.8586758672355569.\n",
      "[I 2025-07-02 18:54:19,096] Trial 1 finished with value: 0.9150117933500722 and parameters: {'max_depth': 6, 'learning_rate': 0.02690782842576984, 'subsample': 0.9332057361730092, 'colsample_bytree': 0.8483925359337352, 'gamma': 0.09438178854837098, 'reg_alpha': 0.629322498991918, 'reg_lambda': 4.261676302310489}. Best is trial 1 with value: 0.9150117933500722.\n",
      "[I 2025-07-02 18:54:42,767] Trial 2 finished with value: 0.9248971374056971 and parameters: {'max_depth': 3, 'learning_rate': 0.049803143946900615, 'subsample': 0.6369527705928393, 'colsample_bytree': 0.820366720319182, 'gamma': 0.1726588205807485, 'reg_alpha': 0.8316830569678703, 'reg_lambda': 5.3549803534920155}. Best is trial 2 with value: 0.9248971374056971.\n",
      "[I 2025-07-02 18:55:04,475] Trial 3 finished with value: 0.9337933617778402 and parameters: {'max_depth': 8, 'learning_rate': 0.10192173851178585, 'subsample': 0.6086953384807798, 'colsample_bytree': 0.5484623695204365, 'gamma': 0.052432838717500097, 'reg_alpha': 0.22909471989657815, 'reg_lambda': 2.851216061404181}. Best is trial 3 with value: 0.9337933617778402.\n",
      "[I 2025-07-02 18:55:24,975] Trial 4 finished with value: 0.8685524321223933 and parameters: {'max_depth': 5, 'learning_rate': 0.0038968357060423908, 'subsample': 0.7223188624160952, 'colsample_bytree': 0.8870680179257608, 'gamma': 0.2323613036858188, 'reg_alpha': 0.13019319737736113, 'reg_lambda': 4.622186873163876}. Best is trial 3 with value: 0.9337933617778402.\n",
      "[I 2025-07-02 18:55:35,100] Trial 5 finished with value: 0.9337875089986479 and parameters: {'max_depth': 5, 'learning_rate': 0.10048462498384894, 'subsample': 0.540349543838474, 'colsample_bytree': 0.7283080937771584, 'gamma': 0.3878452313411207, 'reg_alpha': 0.13010504152639457, 'reg_lambda': 1.4190124247234492}. Best is trial 3 with value: 0.9337933617778402.\n",
      "[I 2025-07-02 18:56:01,161] Trial 6 finished with value: 0.871508085614454 and parameters: {'max_depth': 9, 'learning_rate': 0.0026908634504149904, 'subsample': 0.7508308273266091, 'colsample_bytree': 0.833820158301391, 'gamma': 0.36168042027870956, 'reg_alpha': 0.9666790012929024, 'reg_lambda': 6.693752676085946}. Best is trial 3 with value: 0.9337933617778402.\n",
      "[I 2025-07-02 18:56:11,056] Trial 7 finished with value: 0.9258833306995827 and parameters: {'max_depth': 8, 'learning_rate': 0.1499623013565365, 'subsample': 0.6545410199940178, 'colsample_bytree': 0.6543014530919993, 'gamma': 0.444643303230414, 'reg_alpha': 0.8800553488568242, 'reg_lambda': 1.4149224348479517}. Best is trial 3 with value: 0.9337933617778402.\n",
      "[I 2025-07-02 18:56:17,308] Trial 8 finished with value: 0.8557026554059196 and parameters: {'max_depth': 3, 'learning_rate': 0.0017305711121992562, 'subsample': 0.6662705878414059, 'colsample_bytree': 0.8318484542309981, 'gamma': 0.21307074204684961, 'reg_alpha': 0.9936175240593937, 'reg_lambda': 2.6273647063557988}. Best is trial 3 with value: 0.9337933617778402.\n",
      "[I 2025-07-02 18:56:28,535] Trial 9 finished with value: 0.8626177140215031 and parameters: {'max_depth': 4, 'learning_rate': 0.001785882281151135, 'subsample': 0.8717901605654919, 'colsample_bytree': 0.8443801954793411, 'gamma': 0.19545150301661302, 'reg_alpha': 0.6228663751567931, 'reg_lambda': 8.18163894942203}. Best is trial 3 with value: 0.9337933617778402.\n",
      "[I 2025-07-02 18:56:53,927] Trial 10 finished with value: 0.9140168208873983 and parameters: {'max_depth': 7, 'learning_rate': 0.010989106905078068, 'subsample': 0.8176386241066416, 'colsample_bytree': 0.5023346759445786, 'gamma': 0.0021410658257336457, 'reg_alpha': 0.3525400814023605, 'reg_lambda': 3.112356431138444}. Best is trial 3 with value: 0.9337933617778402.\n",
      "[I 2025-07-02 18:57:02,950] Trial 11 finished with value: 0.9249059165744855 and parameters: {'max_depth': 6, 'learning_rate': 0.17851540182150127, 'subsample': 0.5019832434676695, 'colsample_bytree': 0.9875270447715363, 'gamma': 0.34944494898020484, 'reg_alpha': 0.029755871764347797, 'reg_lambda': 1.0250865350239398}. Best is trial 3 with value: 0.9337933617778402.\n",
      "[I 2025-07-02 18:57:17,893] Trial 12 finished with value: 0.9337962881674363 and parameters: {'max_depth': 7, 'learning_rate': 0.06824639466951746, 'subsample': 0.5732575105729685, 'colsample_bytree': 0.5321673515449517, 'gamma': 0.32954896498058156, 'reg_alpha': 0.28951461844705173, 'reg_lambda': 2.7957398414631824}. Best is trial 12 with value: 0.9337962881674363.\n",
      "[I 2025-07-02 18:57:35,639] Trial 13 finished with value: 0.9189594929152108 and parameters: {'max_depth': 7, 'learning_rate': 0.05651897743356507, 'subsample': 0.5986229369895427, 'colsample_bytree': 0.5009368882085291, 'gamma': 0.29766798399319333, 'reg_alpha': 0.3430861219438802, 'reg_lambda': 3.188751237240239}. Best is trial 12 with value: 0.9337962881674363.\n",
      "[I 2025-07-02 18:57:55,068] Trial 14 finished with value: 0.8952411052388226 and parameters: {'max_depth': 8, 'learning_rate': 0.015651269492123667, 'subsample': 0.5799196512829222, 'colsample_bytree': 0.5850750272511908, 'gamma': 0.49785961968851006, 'reg_alpha': 0.32124765663937965, 'reg_lambda': 6.500760173528958}. Best is trial 12 with value: 0.9337962881674363.\n",
      "[I 2025-07-02 18:58:14,231] Trial 15 finished with value: 0.929825177485529 and parameters: {'max_depth': 8, 'learning_rate': 0.06790784509121797, 'subsample': 0.7261897027129718, 'colsample_bytree': 0.5732067496825297, 'gamma': 0.005086927914042472, 'reg_alpha': 0.4592581426802153, 'reg_lambda': 2.665755287230287}. Best is trial 12 with value: 0.9337962881674363.\n",
      "[I 2025-07-02 18:58:33,642] Trial 16 finished with value: 0.9080879555657004 and parameters: {'max_depth': 7, 'learning_rate': 0.027419748695488574, 'subsample': 0.6125824274097122, 'colsample_bytree': 0.5769062074528581, 'gamma': 0.10527479153301188, 'reg_alpha': 0.23590538485998458, 'reg_lambda': 3.9713311979625363}. Best is trial 12 with value: 0.9337962881674363.\n",
      "[I 2025-07-02 18:58:57,292] Trial 17 finished with value: 0.9160067658127463 and parameters: {'max_depth': 8, 'learning_rate': 0.0314071743302337, 'subsample': 0.786687094489963, 'colsample_bytree': 0.7027244627176197, 'gamma': 0.28969091882805065, 'reg_alpha': 0.447851066342368, 'reg_lambda': 2.052516267188847}. Best is trial 12 with value: 0.9337962881674363.\n",
      "[I 2025-07-02 18:59:17,507] Trial 18 finished with value: 0.8823942549119449 and parameters: {'max_depth': 7, 'learning_rate': 0.011506828153773229, 'subsample': 0.5008670869243986, 'colsample_bytree': 0.6290789438570801, 'gamma': 0.11325739171471487, 'reg_alpha': 0.19722790785911926, 'reg_lambda': 5.759431015323252}. Best is trial 12 with value: 0.9337962881674363.\n",
      "[I 2025-07-02 18:59:31,697] Trial 19 finished with value: 0.9258804043099866 and parameters: {'max_depth': 9, 'learning_rate': 0.10308757879108774, 'subsample': 0.6873810831723607, 'colsample_bytree': 0.5428315956476158, 'gamma': 0.2832477225408853, 'reg_alpha': 0.03005207835509982, 'reg_lambda': 3.5333641324168923}. Best is trial 12 with value: 0.9337962881674363.\n",
      "[I 2025-07-02 18:59:49,794] Trial 20 finished with value: 0.8833833745954266 and parameters: {'max_depth': 5, 'learning_rate': 0.007432986359906054, 'subsample': 0.9881641426480187, 'colsample_bytree': 0.7705200918342981, 'gamma': 0.06461096487413165, 'reg_alpha': 0.5234602848767048, 'reg_lambda': 4.924995707864241}. Best is trial 12 with value: 0.9337962881674363.\n",
      "[I 2025-07-02 19:00:04,372] Trial 21 finished with value: 0.9298398094335095 and parameters: {'max_depth': 6, 'learning_rate': 0.10618324909441192, 'subsample': 0.5541765589700728, 'colsample_bytree': 0.7149538877521715, 'gamma': 0.39287684806440226, 'reg_alpha': 0.13025110213395308, 'reg_lambda': 2.180606081412286}. Best is trial 12 with value: 0.9337962881674363.\n",
      "[I 2025-07-02 19:00:19,640] Trial 22 finished with value: 0.9288506897500278 and parameters: {'max_depth': 5, 'learning_rate': 0.0929988470505503, 'subsample': 0.5515463104759751, 'colsample_bytree': 0.9488991336368208, 'gamma': 0.42231769268385555, 'reg_alpha': 0.24810516162549678, 'reg_lambda': 1.6424117419459978}. Best is trial 12 with value: 0.9337962881674363.\n",
      "[I 2025-07-02 19:00:28,369] Trial 23 finished with value: 0.9189448609672303 and parameters: {'max_depth': 4, 'learning_rate': 0.18645871852361245, 'subsample': 0.5947562822353485, 'colsample_bytree': 0.7598860362298996, 'gamma': 0.31476692617974117, 'reg_alpha': 0.12811372387400743, 'reg_lambda': 1.01243692644343}. Best is trial 12 with value: 0.9337962881674363.\n",
      "[I 2025-07-02 19:00:39,895] Trial 24 finished with value: 0.9169724743794591 and parameters: {'max_depth': 4, 'learning_rate': 0.04957570917064658, 'subsample': 0.5251610167933151, 'colsample_bytree': 0.6903449164691005, 'gamma': 0.34414316046347526, 'reg_alpha': 0.31112865778174403, 'reg_lambda': 2.3045451480977834}. Best is trial 12 with value: 0.9337962881674363.\n",
      "[I 2025-07-02 19:00:59,061] Trial 25 finished with value: 0.9249029901848894 and parameters: {'max_depth': 7, 'learning_rate': 0.07317601724943373, 'subsample': 0.6415625544919912, 'colsample_bytree': 0.6134667036823108, 'gamma': 0.4594107311990779, 'reg_alpha': 0.08714351546480334, 'reg_lambda': 3.845566396623494}. Best is trial 12 with value: 0.9337962881674363.\n",
      "[I 2025-07-02 19:01:12,063] Trial 26 finished with value: 0.9367548680490931 and parameters: {'max_depth': 5, 'learning_rate': 0.13035728819547318, 'subsample': 0.5762481983354906, 'colsample_bytree': 0.5436009631099947, 'gamma': 0.25779899600882195, 'reg_alpha': 0.22919873494848747, 'reg_lambda': 1.7811362915611044}. Best is trial 26 with value: 0.9367548680490931.\n",
      "[I 2025-07-02 19:01:34,735] Trial 27 finished with value: 0.9169871063274396 and parameters: {'max_depth': 6, 'learning_rate': 0.03886567215830426, 'subsample': 0.6855354068274961, 'colsample_bytree': 0.5306069823764171, 'gamma': 0.151259280914423, 'reg_alpha': 0.22554344432408854, 'reg_lambda': 3.0269180057859484}. Best is trial 26 with value: 0.9367548680490931.\n",
      "[I 2025-07-02 19:01:50,009] Trial 28 finished with value: 0.9347737022925336 and parameters: {'max_depth': 8, 'learning_rate': 0.12921390716201053, 'subsample': 0.5817984164124399, 'colsample_bytree': 0.5447676878547996, 'gamma': 0.2570780332202514, 'reg_alpha': 0.3971231009962327, 'reg_lambda': 2.0565733671347903}. Best is trial 26 with value: 0.9367548680490931.\n",
      "[I 2025-07-02 19:02:06,039] Trial 29 finished with value: 0.9318092696316845 and parameters: {'max_depth': 7, 'learning_rate': 0.14870507952076628, 'subsample': 0.5700989828385989, 'colsample_bytree': 0.6628209949976422, 'gamma': 0.24262926166558618, 'reg_alpha': 0.5649845278703685, 'reg_lambda': 8.306137185294546}. Best is trial 26 with value: 0.9367548680490931.\n",
      "[I 2025-07-02 19:02:32,767] Trial 30 finished with value: 0.8932716450406475 and parameters: {'max_depth': 9, 'learning_rate': 0.018220938561956144, 'subsample': 0.5304174691791842, 'colsample_bytree': 0.60034076940842, 'gamma': 0.24686500959190233, 'reg_alpha': 0.40018055544217457, 'reg_lambda': 1.9043180605497907}. Best is trial 26 with value: 0.9367548680490931.\n",
      "[I 2025-07-02 19:02:47,985] Trial 31 finished with value: 0.9327954629255703 and parameters: {'max_depth': 8, 'learning_rate': 0.12779217831864118, 'subsample': 0.6151919001370579, 'colsample_bytree': 0.5458266023404768, 'gamma': 0.2705747310747809, 'reg_alpha': 0.28196289075334235, 'reg_lambda': 2.634104182701358}. Best is trial 26 with value: 0.9367548680490931.\n",
      "[I 2025-07-02 19:03:08,398] Trial 32 finished with value: 0.9407084203934238 and parameters: {'max_depth': 8, 'learning_rate': 0.07728280851931768, 'subsample': 0.6230738940602393, 'colsample_bytree': 0.5503954344285628, 'gamma': 0.3224272291178966, 'reg_alpha': 0.39711844109998995, 'reg_lambda': 3.4314601870592325}. Best is trial 32 with value: 0.9407084203934238.\n",
      "[I 2025-07-02 19:03:29,035] Trial 33 finished with value: 0.9268607448246801 and parameters: {'max_depth': 8, 'learning_rate': 0.06492878014630891, 'subsample': 0.5689212499621933, 'colsample_bytree': 0.5162962746616311, 'gamma': 0.3209729929618631, 'reg_alpha': 0.41762015220278315, 'reg_lambda': 3.389273711093721}. Best is trial 32 with value: 0.9407084203934238.\n",
      "[I 2025-07-02 19:03:55,546] Trial 34 finished with value: 0.9159950602543617 and parameters: {'max_depth': 9, 'learning_rate': 0.03890266378513853, 'subsample': 0.6366840414528689, 'colsample_bytree': 0.558877416690832, 'gamma': 0.14663408835392217, 'reg_alpha': 0.7199510674592897, 'reg_lambda': 4.308633569711431}. Best is trial 32 with value: 0.9407084203934238.\n",
      "[I 2025-07-02 19:04:06,696] Trial 35 finished with value: 0.9199690973258652 and parameters: {'max_depth': 6, 'learning_rate': 0.1960491516302349, 'subsample': 0.6892632855408476, 'colsample_bytree': 0.6125124963257711, 'gamma': 0.26407353902042513, 'reg_alpha': 0.378021595646033, 'reg_lambda': 2.25439616980346}. Best is trial 32 with value: 0.9407084203934238.\n",
      "[I 2025-07-02 19:04:28,539] Trial 36 finished with value: 0.9318151224108768 and parameters: {'max_depth': 7, 'learning_rate': 0.07492777238247923, 'subsample': 0.6232532832276727, 'colsample_bytree': 0.5314270695985007, 'gamma': 0.21561657209821097, 'reg_alpha': 0.1777723035596954, 'reg_lambda': 3.730416640948181}. Best is trial 32 with value: 0.9407084203934238.\n",
      "[I 2025-07-02 19:04:46,085] Trial 37 finished with value: 0.9001867036562312 and parameters: {'max_depth': 5, 'learning_rate': 0.020842416925291984, 'subsample': 0.5798687227599987, 'colsample_bytree': 0.6375099092158516, 'gamma': 0.3868175690841097, 'reg_alpha': 0.5190095604177641, 'reg_lambda': 4.802204344518942}. Best is trial 32 with value: 0.9407084203934238.\n",
      "[I 2025-07-02 19:05:00,241] Trial 38 finished with value: 0.91500594057088 and parameters: {'max_depth': 6, 'learning_rate': 0.042986525032933404, 'subsample': 0.5252229566574955, 'colsample_bytree': 0.6704285514139788, 'gamma': 0.32546269954186413, 'reg_alpha': 0.4655150248016999, 'reg_lambda': 1.6668763820176213}. Best is trial 32 with value: 0.9407084203934238.\n",
      "[I 2025-07-02 19:05:13,608] Trial 39 finished with value: 0.9318121960212807 and parameters: {'max_depth': 8, 'learning_rate': 0.1309144887299012, 'subsample': 0.6671085212731953, 'colsample_bytree': 0.8013508813164585, 'gamma': 0.18403009340168167, 'reg_alpha': 0.2806025176276642, 'reg_lambda': 5.8362500081034465}. Best is trial 32 with value: 0.9407084203934238.\n",
      "[I 2025-07-02 19:05:27,398] Trial 40 finished with value: 0.9347649231237453 and parameters: {'max_depth': 9, 'learning_rate': 0.08432976953038443, 'subsample': 0.7142796351868869, 'colsample_bytree': 0.5897314832972221, 'gamma': 0.3670433332046843, 'reg_alpha': 0.6817606140206159, 'reg_lambda': 4.296878620247662}. Best is trial 32 with value: 0.9407084203934238.\n",
      "[I 2025-07-02 19:05:41,583] Trial 41 finished with value: 0.9258804043099866 and parameters: {'max_depth': 9, 'learning_rate': 0.08560452946469325, 'subsample': 0.779851957230613, 'colsample_bytree': 0.5657792586127842, 'gamma': 0.3672615575740112, 'reg_alpha': 0.7308124389519052, 'reg_lambda': 4.278333822081082}. Best is trial 32 with value: 0.9407084203934238.\n",
      "[I 2025-07-02 19:05:52,791] Trial 42 finished with value: 0.9436699266646768 and parameters: {'max_depth': 9, 'learning_rate': 0.13146176740710758, 'subsample': 0.7118896694160282, 'colsample_bytree': 0.590624943951668, 'gamma': 0.30638914736398964, 'reg_alpha': 0.5970292474625618, 'reg_lambda': 5.187428038112358}. Best is trial 42 with value: 0.9436699266646768.\n",
      "[I 2025-07-02 19:06:05,862] Trial 43 finished with value: 0.930820149948203 and parameters: {'max_depth': 9, 'learning_rate': 0.12433471302446258, 'subsample': 0.7315373910436272, 'colsample_bytree': 0.5932888285966337, 'gamma': 0.21732199766449445, 'reg_alpha': 0.6271380086554604, 'reg_lambda': 6.364121471116796}. Best is trial 42 with value: 0.9436699266646768.\n",
      "[I 2025-07-02 19:06:16,237] Trial 44 finished with value: 0.929825177485529 and parameters: {'max_depth': 9, 'learning_rate': 0.1642904513853305, 'subsample': 0.7061224888807088, 'colsample_bytree': 0.6308090304997499, 'gamma': 0.3011691586853727, 'reg_alpha': 0.7416517696198064, 'reg_lambda': 5.323550308083262}. Best is trial 42 with value: 0.9436699266646768.\n",
      "[I 2025-07-02 19:06:29,409] Trial 45 finished with value: 0.9357657483656115 and parameters: {'max_depth': 9, 'learning_rate': 0.1121132386274225, 'subsample': 0.7606729964834322, 'colsample_bytree': 0.5538105393331391, 'gamma': 0.2660558682379629, 'reg_alpha': 0.6679353778206409, 'reg_lambda': 5.184929525568989}. Best is trial 42 with value: 0.9436699266646768.\n",
      "[I 2025-07-02 19:06:42,230] Trial 46 finished with value: 0.9288477633604316 and parameters: {'max_depth': 8, 'learning_rate': 0.114087999358441, 'subsample': 0.83241216977969, 'colsample_bytree': 0.5150252595442409, 'gamma': 0.2660243497364438, 'reg_alpha': 0.8236800954835193, 'reg_lambda': 5.184091441479132}. Best is trial 42 with value: 0.9436699266646768.\n",
      "[I 2025-07-02 19:06:54,865] Trial 47 finished with value: 0.9298163983167408 and parameters: {'max_depth': 9, 'learning_rate': 0.15135896699187604, 'subsample': 0.7608862070945676, 'colsample_bytree': 0.8740387339509766, 'gamma': 0.19969433232274345, 'reg_alpha': 0.5935427454531303, 'reg_lambda': 6.861050403325542}. Best is trial 42 with value: 0.9436699266646768.\n",
      "[I 2025-07-02 19:07:14,718] Trial 48 finished with value: 0.9229130452595417 and parameters: {'max_depth': 8, 'learning_rate': 0.049705679763029954, 'subsample': 0.835962814387722, 'colsample_bytree': 0.5619490700138409, 'gamma': 0.22949091788800827, 'reg_alpha': 0.552989058020667, 'reg_lambda': 7.4041399432054344}. Best is trial 42 with value: 0.9436699266646768.\n",
      "[I 2025-07-02 19:07:19,510] Trial 49 finished with value: 0.8764653895902469 and parameters: {'max_depth': 3, 'learning_rate': 0.0036417295899485126, 'subsample': 0.8943208006412492, 'colsample_bytree': 0.5042102503017519, 'gamma': 0.30491209482992554, 'reg_alpha': 0.6835945978287119, 'reg_lambda': 5.8250913413164325}. Best is trial 42 with value: 0.9436699266646768.\n"
     ]
    },
    {
     "name": "stdout",
     "output_type": "stream",
     "text": [
      "✅ Best hyperparameters: {'max_depth': 9, 'learning_rate': 0.13146176740710758, 'subsample': 0.7118896694160282, 'colsample_bytree': 0.590624943951668, 'gamma': 0.30638914736398964, 'reg_alpha': 0.5970292474625618, 'reg_lambda': 5.187428038112358}\n"
     ]
    }
   ],
   "source": [
    "pos_weight = (y_resampled == 0).sum() / (y_resampled == 1).sum()\n",
    "\n",
    "\n",
    "# Train XGBoost Classifier\n",
    "def objective(trial):\n",
    "    params = {\n",
    "        'max_depth': trial.suggest_int('max_depth', 3, 9),\n",
    "        'learning_rate': trial.suggest_float('learning_rate', 1e-3, 0.2, log=True),\n",
    "        'subsample': trial.suggest_float('subsample', 0.5, 1.0),\n",
    "        'colsample_bytree': trial.suggest_float('colsample_bytree', 0.5, 1.0),\n",
    "        'gamma': trial.suggest_float('gamma', 0, 0.5),\n",
    "        'reg_alpha': trial.suggest_float('reg_alpha', 0, 1.0),\n",
    "        'reg_lambda': trial.suggest_float('reg_lambda', 1, 10),\n",
    "        'scale_pos_weight': pos_weight,\n",
    "        'tree_method': 'hist',\n",
    "        'use_label_encoder': False,\n",
    "        'eval_metric': 'logloss',\n",
    "        'random_state': 42,\n",
    "    }\n",
    "    clf = XGBClassifier(**params)\n",
    "    scores = cross_val_score(\n",
    "        clf, X_resampled, y_resampled,\n",
    "        cv=StratifiedKFold(n_splits=3, shuffle=True, random_state=42),\n",
    "        scoring='accuracy',\n",
    "        n_jobs=-1\n",
    "    )\n",
    "    return scores.mean()\n",
    "\n",
    "# 3️⃣ Run Optuna study\n",
    "study = optuna.create_study(direction='maximize')\n",
    "study.optimize(objective, n_trials=50)  # adjust n_trials as needed\n",
    "\n",
    "# 4️⃣ Train best model and evaluate on test set\n",
    "best_params = study.best_params\n",
    "best_clf = XGBClassifier(**best_params)\n",
    "best_clf.fit(X_resampled, y_resampled)\n",
    "y_pred = best_clf.predict(X_test_scaled)\n",
    "\n",
    "print(\"✅ Best hyperparameters:\", best_params)"
   ]
  },
  {
   "cell_type": "code",
   "execution_count": 6,
   "id": "5e251ea8",
   "metadata": {},
   "outputs": [
    {
     "name": "stdout",
     "output_type": "stream",
     "text": [
      "✅ Model Evaluation Results:\n",
      "Accuracy: 0.9408866995073891\n",
      "\n",
      "Classification Report:\n",
      "               precision    recall  f1-score   support\n",
      "\n",
      "           0       0.96      0.88      0.92        77\n",
      "           1       0.93      0.98      0.95       126\n",
      "\n",
      "    accuracy                           0.94       203\n",
      "   macro avg       0.94      0.93      0.94       203\n",
      "weighted avg       0.94      0.94      0.94       203\n",
      "\n"
     ]
    }
   ],
   "source": [
    "print(\"✅ Model Evaluation Results:\")\n",
    "print(\"Accuracy:\", accuracy_score(y_test, y_pred))\n",
    "print(\"\\nClassification Report:\\n\", classification_report(y_test, y_pred))"
   ]
  },
  {
   "cell_type": "code",
   "execution_count": 7,
   "id": "15a2d397",
   "metadata": {},
   "outputs": [
    {
     "data": {
      "image/png": "[encoded data removed]",
      "text/plain": [
       "<Figure size 600x400 with 2 Axes>"
      ]
     },
     "metadata": {},
     "output_type": "display_data"
    }
   ],
   "source": [
    "cm = confusion_matrix(y_test, y_pred)\n",
    "plt.figure(figsize=(6, 4))\n",
    "sns.heatmap(cm, annot=True, fmt='d', cmap='Blues', xticklabels=[\"Normal\", \"Cracked\"], yticklabels=[\"Normal\", \"Cracked\"])\n",
    "plt.title(\"Confusion Matrix\")\n",
    "plt.xlabel(\"Predicted\")\n",
    "plt.ylabel(\"Actual\")\n",
    "plt.tight_layout()\n",
    "plt.show()"
   ]
  },
  {
   "cell_type": "code",
   "execution_count": 8,
   "id": "185be235",
   "metadata": {},
   "outputs": [
    {
     "data": {
      "text/plain": [
       "['xgb_model.pkl']"
      ]
     },
     "execution_count": 8,
     "metadata": {},
     "output_type": "execute_result"
    }
   ],
   "source": [
    "joblib.dump(scaler, \"scaler.pkl\")\n",
    "joblib.dump(pca, \"pca.pkl\")\n",
    "joblib.dump(best_clf, \"xgb_model.pkl\")"
   ]
  }
 ],
 "metadata": {
  "kernelspec": {
   "display_name": "venv",
   "language": "python",
   "name": "python3"
  },
  "language_info": {
   "codemirror_mode": {
    "name": "ipython",
    "version": 3
   },
   "file_extension": ".py",
   "mimetype": "text/x-python",
   "name": "python",
   "nbconvert_exporter": "python",
   "pygments_lexer": "ipython3",
   "version": "3.12.4"
  }
 },
 "nbformat": 4,
 "nbformat_minor": 5
}
